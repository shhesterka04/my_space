{
 "cells": [
  {
   "cell_type": "code",
   "execution_count": null,
   "id": "3a042eef",
   "metadata": {},
   "outputs": [],
   "source": [
    "import telebot\n",
    "import PIL\n",
    "from PIL import Image\n",
    "from requests import get\n",
    "\n"
   ]
  },
  {
   "cell_type": "code",
   "execution_count": null,
   "id": "24115828",
   "metadata": {},
   "outputs": [],
   "source": [
    "from instabot import Bot\n",
    "bot = Bot()\n",
    "bot.login(username = 'timaer555',  password = 'test112358')\n",
    "import requests\n",
    "def donwnload_photo(media_id, filename,list_of_name,idx):\n",
    "    media = bot.get_media_info(media_id)[0]\n",
    "    if (\"image_versions2\" in media.keys()):\n",
    "        url = media[\"image_versions2\"][\"candidates\"][0][\"url\"]\n",
    "        response = requests.get(url)\n",
    "        list_of_name[idx].append(filename +  \"0.jpg\")\n",
    "        with open(filename +  \"0.jpg\", \"wb\") as f:\n",
    "            response.raw.decode_content = True\n",
    "            f.write(response.content)\n",
    "            \n",
    "    elif(\"carousel_media\" in media.keys()):\n",
    "        for e, element in enumerate(media[\"carousel_media\"]):\n",
    "            url = element['image_versions2'][\"candidates\"][0][\"url\"]\n",
    "            response = requests.get(url)\n",
    "            list_of_name[idx].append(filename + str(e) + \".jpg\")\n",
    "            with open(filename + str(e) + \".jpg\", \"wb\") as f:\n",
    "                response.raw.decode_content = True\n",
    "                f.write(response.content)\n",
    "username = \"mybestphotozz\"\n",
    "list_of_photos = {}\n",
    "list_of_texts = {}\n",
    "media = bot.get_total_user_medias(username)\n",
    "for idx, media_id in enumerate(media):\n",
    "    media_info = bot.get_media_info(media_id)[0]\n",
    "    # [0] - потому что функция возвращает массив, где всего один элемент\n",
    "    list_of_texts[idx]=media_info[\"caption\"][\"text\"]\n",
    "    list_of_photos[idx]=[]\n",
    "    donwnload_photo(media_id,username+\" \"+str(idx)+\"_\",list_of_photos,idx)\n",
    "list_of_photos\n",
    "list_of_texts"
   ]
  },
  {
   "cell_type": "code",
   "execution_count": null,
   "id": "5408dae1",
   "metadata": {},
   "outputs": [],
   "source": []
  }
 ],
 "metadata": {
  "kernelspec": {
   "display_name": "Python 3 (ipykernel)",
   "language": "python",
   "name": "python3"
  },
  "language_info": {
   "codemirror_mode": {
    "name": "ipython",
    "version": 3
   },
   "file_extension": ".py",
   "mimetype": "text/x-python",
   "name": "python",
   "nbconvert_exporter": "python",
   "pygments_lexer": "ipython3",
   "version": "3.10.2"
  }
 },
 "nbformat": 4,
 "nbformat_minor": 5
}
